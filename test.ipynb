{
 "cells": [
  {
   "cell_type": "code",
   "execution_count": 11,
   "metadata": {},
   "outputs": [],
   "source": [
    "from keycloak import KeycloakOpenID\n",
    "\n",
    "\n",
    "KEYCLOAK_URL = \"http://localhost:8080/\"\n",
    "KEYCLOAK_REALM = \"serenade\"\n",
    "KEYCLOAK_CLIENT_ID = \"fastapi-be\"\n",
    "KEYCLOAK_CLIENT_SECRET = \"bIUPwcgLhC6d0oMI7sFycuFIV877i0Yv\"  # If needed\n",
    "KEYCLOAK_PUBLIC_KEY = '''-----BEGIN PUBLIC KEY-----\n",
    "MIIBIjANBgkqhkiG9w0BAQEFAAOCAQ8AMIIBCgKCAQEAtF3BO95Vhuoa2nysiGRTwPOnO6nzNJXPgrf1/a1Yy3rieV+iL49X0ud6zIooEiTdSc0ClN5Y1HrZfTrTWmwPC62ZE4B6n2iDPrs9er2GkwmGhvuBFskEtdudshakZe2ICj9z5jkxXnt69uMegOjQUwzBPHKr8roWY38COJSErjzU8Yo3qf73wMd9Wiojj1skk1co0/O8RoXr4bbQDohW+QGI456lgm9JRd8hO0wv6TSxfiZ4/Gv6AQ8ow0GWYMqKozKiCfzYMVm7wyqZL0+T6Pwp0VOmK7x6mSzzMX+lRS8B+WW+QvzWDi4hKEz1hHzN/KIydTlbtaE1MJ3qB0g56wIDAQAB\n",
    "-----END PUBLIC KEY-----'''\n",
    "\n",
    "keycloak_openid = KeycloakOpenID(\n",
    "    server_url=KEYCLOAK_URL,\n",
    "    client_id=KEYCLOAK_CLIENT_ID,\n",
    "    realm_name=KEYCLOAK_REALM,\n",
    "    client_secret_key=KEYCLOAK_CLIENT_SECRET\n",
    ")"
   ]
  },
  {
   "cell_type": "code",
   "execution_count": 12,
   "metadata": {},
   "outputs": [
    {
     "ename": "KeycloakAuthenticationError",
     "evalue": "401: b''",
     "output_type": "error",
     "traceback": [
      "\u001b[0;31m---------------------------------------------------------------------------\u001b[0m",
      "\u001b[0;31mKeycloakAuthenticationError\u001b[0m               Traceback (most recent call last)",
      "Cell \u001b[0;32mIn[12], line 1\u001b[0m\n\u001b[0;32m----> 1\u001b[0m \u001b[43mkeycloak_openid\u001b[49m\u001b[38;5;241;43m.\u001b[39;49m\u001b[43muserinfo\u001b[49m\u001b[43m(\u001b[49m\u001b[38;5;124;43m\"\u001b[39;49m\u001b[38;5;124;43meyJhbGciOiJSUzI1NiIsInR5cCIgOiAiSldUIiwia2lkIiA6ICJtckRKeW1qWkRBX0ZfSF9OOU80M3ZLTkpBaXhHQ1dudVZpaFRBQWtkajRNIn0.eyJleHAiOjE3MDU4NDY0NTYsImlhdCI6MTcwNTg0NjE1NiwianRpIjoiYzFiZDNmZGUtOWE0YS00YjEzLTg5MGUtNTk3MDNkMmE1Y2RkIiwiaXNzIjoiaHR0cDovL2xvY2FsaG9zdDo4MDgwL3JlYWxtcy9zZXJlbmFkZSIsImF1ZCI6ImFjY291bnQiLCJzdWIiOiIxZDFiYzgyMy1hMTE2LTQ2NmUtYjBmZS05YTM2ZjI5ZTVlZTQiLCJ0eXAiOiJCZWFyZXIiLCJhenAiOiJjdXJsLWZlIiwic2Vzc2lvbl9zdGF0ZSI6IjNlY2VlYzQ1LTcyYzYtNDY0OS05ZDE0LWI5MmEyYmIxM2NiNyIsImFjciI6IjEiLCJhbGxvd2VkLW9yaWdpbnMiOlsiKiJdLCJyZWFsbV9hY2Nlc3MiOnsicm9sZXMiOlsib2ZmbGluZV9hY2Nlc3MiLCJkZWZhdWx0LXJvbGVzLXNlcmVuYWRlIiwidW1hX2F1dGhvcml6YXRpb24iXX0sInJlc291cmNlX2FjY2VzcyI6eyJhY2NvdW50Ijp7InJvbGVzIjpbIm1hbmFnZS1hY2NvdW50IiwibWFuYWdlLWFjY291bnQtbGlua3MiLCJ2aWV3LXByb2ZpbGUiXX19LCJzY29wZSI6ImVtYWlsIHByb2ZpbGUiLCJzaWQiOiIzZWNlZWM0NS03MmM2LTQ2NDktOWQxNC1iOTJhMmJiMTNjYjciLCJlbWFpbF92ZXJpZmllZCI6ZmFsc2UsInByZWZlcnJlZF91c2VybmFtZSI6ImRvY3RvcjEifQ.KV-VQoP7PS1qQeAK2WWefp_GAVu-4YWTQVJ0jgHn3vNHm4CcVg6vjSdCcI-mmPSFcCScWjP53kNYPqb34jyjImXgA4YXat-_HB8cVqzfp5kH3_AlS8WRDe9o8UC3QUpsJf5V-yfs98NHoYl0IcISqftRdBjEpW7JgMSRLBCvSe4OGgMQGLD0EKuB3lSaQbHymX-EZ0t9d6u7qJvi46I7ResEooWKrzAiqPHg4VqWgRb3qfq74l4S652n-UxNP3PaTRg05dlx77TDXfGZugRbX8ZjragCGeldPMJ9YVe9n6SLrxJirua63aso26i751ArNOhtrUj6ui1qOBIpGh05Sg\u001b[39;49m\u001b[38;5;124;43m\"\u001b[39;49m\u001b[43m)\u001b[49m\n",
      "File \u001b[0;32m~/Personal/bettini/.venv/lib/python3.10/site-packages/keycloak/keycloak_openid.py:416\u001b[0m, in \u001b[0;36mKeycloakOpenID.userinfo\u001b[0;34m(self, token)\u001b[0m\n\u001b[1;32m    414\u001b[0m params_path \u001b[38;5;241m=\u001b[39m {\u001b[38;5;124m\"\u001b[39m\u001b[38;5;124mrealm-name\u001b[39m\u001b[38;5;124m\"\u001b[39m: \u001b[38;5;28mself\u001b[39m\u001b[38;5;241m.\u001b[39mrealm_name}\n\u001b[1;32m    415\u001b[0m data_raw \u001b[38;5;241m=\u001b[39m \u001b[38;5;28mself\u001b[39m\u001b[38;5;241m.\u001b[39mconnection\u001b[38;5;241m.\u001b[39mraw_get(URL_USERINFO\u001b[38;5;241m.\u001b[39mformat(\u001b[38;5;241m*\u001b[39m\u001b[38;5;241m*\u001b[39mparams_path))\n\u001b[0;32m--> 416\u001b[0m \u001b[38;5;28;01mreturn\u001b[39;00m \u001b[43mraise_error_from_response\u001b[49m\u001b[43m(\u001b[49m\u001b[43mdata_raw\u001b[49m\u001b[43m,\u001b[49m\u001b[43m \u001b[49m\u001b[43mKeycloakGetError\u001b[49m\u001b[43m)\u001b[49m\n",
      "File \u001b[0;32m~/Personal/bettini/.venv/lib/python3.10/site-packages/keycloak/exceptions.py:192\u001b[0m, in \u001b[0;36mraise_error_from_response\u001b[0;34m(response, error, expected_codes, skip_exists)\u001b[0m\n\u001b[1;32m    189\u001b[0m     \u001b[38;5;28;01mif\u001b[39;00m response\u001b[38;5;241m.\u001b[39mstatus_code \u001b[38;5;241m==\u001b[39m \u001b[38;5;241m401\u001b[39m:\n\u001b[1;32m    190\u001b[0m         error \u001b[38;5;241m=\u001b[39m KeycloakAuthenticationError\n\u001b[0;32m--> 192\u001b[0m \u001b[38;5;28;01mraise\u001b[39;00m error(\n\u001b[1;32m    193\u001b[0m     error_message\u001b[38;5;241m=\u001b[39mmessage, response_code\u001b[38;5;241m=\u001b[39mresponse\u001b[38;5;241m.\u001b[39mstatus_code, response_body\u001b[38;5;241m=\u001b[39mresponse\u001b[38;5;241m.\u001b[39mcontent\n\u001b[1;32m    194\u001b[0m )\n",
      "\u001b[0;31mKeycloakAuthenticationError\u001b[0m: 401: b''"
     ]
    }
   ],
   "source": [
    "keycloak_openid.userinfo(\"eyJhbGciOiJSUzI1NiIsInR5cCIgOiAiSldUIiwia2lkIiA6ICJtckRKeW1qWkRBX0ZfSF9OOU80M3ZLTkpBaXhHQ1dudVZpaFRBQWtkajRNIn0.eyJleHAiOjE3MDU4NDY0NTYsImlhdCI6MTcwNTg0NjE1NiwianRpIjoiYzFiZDNmZGUtOWE0YS00YjEzLTg5MGUtNTk3MDNkMmE1Y2RkIiwiaXNzIjoiaHR0cDovL2xvY2FsaG9zdDo4MDgwL3JlYWxtcy9zZXJlbmFkZSIsImF1ZCI6ImFjY291bnQiLCJzdWIiOiIxZDFiYzgyMy1hMTE2LTQ2NmUtYjBmZS05YTM2ZjI5ZTVlZTQiLCJ0eXAiOiJCZWFyZXIiLCJhenAiOiJjdXJsLWZlIiwic2Vzc2lvbl9zdGF0ZSI6IjNlY2VlYzQ1LTcyYzYtNDY0OS05ZDE0LWI5MmEyYmIxM2NiNyIsImFjciI6IjEiLCJhbGxvd2VkLW9yaWdpbnMiOlsiKiJdLCJyZWFsbV9hY2Nlc3MiOnsicm9sZXMiOlsib2ZmbGluZV9hY2Nlc3MiLCJkZWZhdWx0LXJvbGVzLXNlcmVuYWRlIiwidW1hX2F1dGhvcml6YXRpb24iXX0sInJlc291cmNlX2FjY2VzcyI6eyJhY2NvdW50Ijp7InJvbGVzIjpbIm1hbmFnZS1hY2NvdW50IiwibWFuYWdlLWFjY291bnQtbGlua3MiLCJ2aWV3LXByb2ZpbGUiXX19LCJzY29wZSI6ImVtYWlsIHByb2ZpbGUiLCJzaWQiOiIzZWNlZWM0NS03MmM2LTQ2NDktOWQxNC1iOTJhMmJiMTNjYjciLCJlbWFpbF92ZXJpZmllZCI6ZmFsc2UsInByZWZlcnJlZF91c2VybmFtZSI6ImRvY3RvcjEifQ.KV-VQoP7PS1qQeAK2WWefp_GAVu-4YWTQVJ0jgHn3vNHm4CcVg6vjSdCcI-mmPSFcCScWjP53kNYPqb34jyjImXgA4YXat-_HB8cVqzfp5kH3_AlS8WRDe9o8UC3QUpsJf5V-yfs98NHoYl0IcISqftRdBjEpW7JgMSRLBCvSe4OGgMQGLD0EKuB3lSaQbHymX-EZ0t9d6u7qJvi46I7ResEooWKrzAiqPHg4VqWgRb3qfq74l4S652n-UxNP3PaTRg05dlx77TDXfGZugRbX8ZjragCGeldPMJ9YVe9n6SLrxJirua63aso26i751ArNOhtrUj6ui1qOBIpGh05Sg\")"
   ]
  }
 ],
 "metadata": {
  "kernelspec": {
   "display_name": ".venv",
   "language": "python",
   "name": "python3"
  },
  "language_info": {
   "codemirror_mode": {
    "name": "ipython",
    "version": 3
   },
   "file_extension": ".py",
   "mimetype": "text/x-python",
   "name": "python",
   "nbconvert_exporter": "python",
   "pygments_lexer": "ipython3",
   "version": "3.10.12"
  }
 },
 "nbformat": 4,
 "nbformat_minor": 2
}
